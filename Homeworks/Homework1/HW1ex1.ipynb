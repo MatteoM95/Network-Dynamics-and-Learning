{
 "cells": [
  {
   "cell_type": "markdown",
   "id": "c08636e6",
   "metadata": {},
   "source": [
    "# Homework 1 - Exercise 1"
   ]
  },
  {
   "cell_type": "code",
   "execution_count": 9,
   "id": "ac87f05d",
   "metadata": {},
   "outputs": [
    {
     "data": {
      "image/png": "[encoded data removed]",
      "text/plain": [
       "<Figure size 432x216 with 1 Axes>"
      ]
     },
     "metadata": {},
     "output_type": "display_data"
    }
   ],
   "source": [
    "import numpy as np\n",
    "import networkx as nx\n",
    "import matplotlib.pyplot as plt\n",
    "from networkx.algorithms.flow import edmonds_karp\n",
    "%matplotlib inline\n",
    "\n",
    "# creation graph\n",
    "G = nx.DiGraph()\n",
    "G.add_edges_from([(\"o\",\"a\"), (\"o\",\"b\"), (\"a\",\"b\"), (\"a\",\"d\"), (\"b\",\"d\")])\n",
    "\n",
    "# draw Graph\n",
    "fig, ax = plt.subplots(figsize=(6,3))\n",
    "\n",
    "pos = {\"o\":[-1,0], \"a\":[0,1], \"b\":[0,-1], \"d\":[1,0]}\n",
    "labels = {(\"o\",\"a\"): \"e1\", (\"o\",\"b\"): \"e2\", (\"a\",\"b\"): \"e3\", (\"a\",\"d\"): \"e4\", (\"b\",\"d\"): \"e5\"}\n",
    "\n",
    "nx.draw_networkx_edge_labels(G,  pos, edge_labels = labels, font_size = 10, font_color='red', ax = ax)\n",
    "\n",
    "nx.draw(G, pos, node_size = 600, font_size=12, node_color='lightgray', with_labels=True, width=2, edge_color = 'black', edgecolors='red', ax=ax)\n",
    "\n",
    "plt.savefig(\"plot1.1.svg\", format=\"svg\")"
   ]
  },
  {
   "cell_type": "markdown",
   "id": "b9aefdd3",
   "metadata": {},
   "source": [
    "**B)** Where should 1 unit of additional capacity be allocated in order to maximize the feasible throughput from o to d"
   ]
  },
  {
   "cell_type": "code",
   "execution_count": 10,
   "id": "ed494dd1",
   "metadata": {},
   "outputs": [
    {
     "data": {
      "image/png": "[encoded data removed]",
      "text/plain": [
       "<Figure size 432x252 with 1 Axes>"
      ]
     },
     "metadata": {},
     "output_type": "display_data"
    }
   ],
   "source": [
    "# add capacities\n",
    "G[\"o\"][\"a\"]['capacity'] = 3\n",
    "G[\"o\"][\"b\"]['capacity'] = 2\n",
    "G[\"a\"][\"b\"]['capacity'] = 2\n",
    "G[\"a\"][\"d\"]['capacity'] = 3\n",
    "G[\"b\"][\"d\"]['capacity'] = 2\n",
    "\n",
    "#draw Graph\n",
    "fig, ax = plt.subplots(figsize=(6,3.5))\n",
    "\n",
    "nx.draw_networkx_edge_labels(G,pos,edge_labels={(\"o\",\"a\"): '3', (\"o\",\"b\"): '2', (\"a\",\"b\"): '2', (\"a\",\"d\"): '3', (\"b\",\"d\"):'2'}, font_size = 15, font_color='red', ax = ax)\n",
    "nx.draw(G, pos, node_size = 1000, font_size=12, node_color='lightgray', with_labels=True, width=2, edge_color = 'black', edgecolors='red', ax=ax)\n",
    "plt.savefig(\"plot1.2.svg\", format=\"svg\")"
   ]
  },
  {
   "cell_type": "markdown",
   "id": "5840af1a",
   "metadata": {},
   "source": [
    "**C)** Where should 2 units of additional capacity be allocated in order to maximize the feasible throughput from o to d? Compute all the optimal capacity allocations for this case and the optimal throughput."
   ]
  },
  {
   "cell_type": "code",
   "execution_count": 16,
   "id": "38bebe21",
   "metadata": {},
   "outputs": [
    {
     "name": "stdout",
     "output_type": "stream",
     "text": [
      "list of edges:  {('o', 'a'): 7, ('o', 'b'): 2, ('a', 'b'): 2, ('a', 'd'): 3, ('b', 'd'): 2}\n",
      "7\n"
     ]
    },
    {
     "data": {
      "text/plain": [
       "[array([0, 0, 0, 0, 2]), array([0, 0, 0, 1, 1]), array([0, 0, 0, 2, 0])]"
      ]
     },
     "execution_count": 16,
     "metadata": {},
     "output_type": "execute_result"
    }
   ],
   "source": [
    "edges = nx.get_edge_attributes(G, \"capacity\")\n",
    "print(\"list of edges: \", edges)\n",
    "\n",
    "#compute all possible combinationon how to distribute the capacities among all edges\n",
    "allCombination = list()\n",
    "\n",
    "for a in range(len(edges)):\n",
    "    for b in range(len(edges)):\n",
    "        tmp = np.zeros(len(edges), dtype = \"int32\")\n",
    "        tmp[a] += 1\n",
    "        tmp[b] += 1\n",
    "        allCombination.append(tmp)\n",
    "\n",
    "#remove duplicates\n",
    "allCombination = np.unique(allCombination, axis= 0 )\n",
    "        \n",
    "optimalCombinationsList = list()\n",
    "maxFlowFound = 0\n",
    "\n",
    "# current max-flow of the Graph\n",
    "flow_value, flow_dict  = nx.algorithms.flow.maximum_flow(G,\"o\",\"d\")\n",
    "\n",
    "for combination in allCombination:\n",
    "    for e_dict, e_value in edges.items():\n",
    "        for i in range(len(edges)):\n",
    "            \n",
    "            # add the capacities to all edges\n",
    "            pos = list(edges.keys()).index(e_dict)\n",
    "            G[e_dict[0]][e_dict[1]]['capacity'] = int(e_value) + combination[pos]\n",
    "            \n",
    "            # calculate new max-flow of graph with modified capacities\n",
    "            new_flow_value, new_flow_dict  = nx.algorithms.flow.maximum_flow(G,\"o\",\"d\")\n",
    "    \n",
    "    #update list of best combination\n",
    "    if(maxFlowFound <= new_flow_value and new_flow_value > flow_value):\n",
    "        maxFlowFound = new_flow_value\n",
    "        optimalCombinationsList.append(combination)\n",
    "        \n",
    "    G[e_dict[0]][e_dict[1]]['capacity'] = int(e_value)\n",
    "\n",
    "print(maxFlowFound)\n",
    "\n",
    "optimalCombinationsList"
   ]
  },
  {
   "cell_type": "markdown",
   "id": "11a4d2a3",
   "metadata": {},
   "source": [
    "**D)** Where should 4 units of additional capacity be allocated in order to maximize the feasible throughput from o to d? Compute all the optimal capacity allocations for this case. Among the optimal allocations, select the allocation that maximizes\n",
    "the sum of the cut capacities."
   ]
  },
  {
   "cell_type": "code",
   "execution_count": 14,
   "id": "bdecd4c3",
   "metadata": {},
   "outputs": [
    {
     "data": {
      "text/plain": [
       "70"
      ]
     },
     "execution_count": 14,
     "metadata": {},
     "output_type": "execute_result"
    }
   ],
   "source": [
    "#compute all possible combinationon how to distribute the capacities among all edges\n",
    "allCombination = list()\n",
    "\n",
    "for a in range(len(edges)):\n",
    "    for b in range(len(edges)):\n",
    "        for c in range(len(edges)):\n",
    "            for d in range(len(edges)):\n",
    "                tmp = np.zeros(len(edges), dtype = \"int32\")\n",
    "                tmp[a] += 1\n",
    "                tmp[b] += 1\n",
    "                tmp[c] += 1\n",
    "                tmp[d] += 1\n",
    "                allCombination.append(tmp)\n",
    "\n",
    "#remove duplicates\n",
    "allCombination = np.unique(allCombination, axis= 0 )\n",
    "len(allCombination)"
   ]
  },
  {
   "cell_type": "code",
   "execution_count": 15,
   "id": "b264da8d",
   "metadata": {},
   "outputs": [
    {
     "name": "stdout",
     "output_type": "stream",
     "text": [
      "list of edges:  {('o', 'a'): 3, ('o', 'b'): 2, ('a', 'b'): 2, ('a', 'd'): 3, ('b', 'd'): 2}\n",
      "7\n"
     ]
    },
    {
     "data": {
      "text/plain": [
       "[array([0, 2, 0, 0, 2]),\n",
       " array([1, 1, 0, 0, 2]),\n",
       " array([1, 1, 0, 1, 1]),\n",
       " array([2, 0, 0, 0, 2]),\n",
       " array([2, 0, 0, 1, 1]),\n",
       " array([2, 0, 0, 2, 0])]"
      ]
     },
     "execution_count": 15,
     "metadata": {},
     "output_type": "execute_result"
    }
   ],
   "source": [
    "edges = nx.get_edge_attributes(G, \"capacity\")\n",
    "print(\"list of edges: \", edges)\n",
    "\n",
    "optimalCombinationsList = list()\n",
    "maxFlowFound = 0\n",
    "\n",
    "# current max-flow of the Graph\n",
    "flow_value, flow_dict  = nx.algorithms.flow.maximum_flow(G,\"o\",\"d\")\n",
    "\n",
    "for combination in allCombination:\n",
    "    for e_dict, e_value in edges.items():\n",
    "        for i in range(len(edges)):\n",
    "            \n",
    "            # add the capacities to all edges\n",
    "            pos = list(edges.keys()).index(e_dict)\n",
    "            G[e_dict[0]][e_dict[1]]['capacity'] = int(e_value) + combination[pos]\n",
    "            \n",
    "            # calculate new max-flow of graph with modified capacities\n",
    "            new_flow_value, new_flow_dict  = nx.algorithms.flow.maximum_flow(G,\"o\",\"d\")\n",
    "    \n",
    "    #update list of best combination on best Max-Flow\n",
    "    if(maxFlowFound <= new_flow_value and new_flow_value > flow_value and new_flow_value == 7):\n",
    "        maxFlowFound = new_flow_value\n",
    "        optimalCombinationsList.append(combination)\n",
    "       \n",
    "    G[e_dict[0]][e_dict[1]]['capacity'] = int(e_value)\n",
    "\n",
    "print(maxFlowFound)\n",
    "optimalCombinationsList"
   ]
  },
  {
   "cell_type": "code",
   "execution_count": null,
   "id": "dfdb8048",
   "metadata": {},
   "outputs": [],
   "source": []
  }
 ],
 "metadata": {
  "kernelspec": {
   "display_name": "Python 3",
   "language": "python",
   "name": "python3"
  },
  "language_info": {
   "codemirror_mode": {
    "name": "ipython",
    "version": 3
   },
   "file_extension": ".py",
   "mimetype": "text/x-python",
   "name": "python",
   "nbconvert_exporter": "python",
   "pygments_lexer": "ipython3",
   "version": "3.8.8"
  }
 },
 "nbformat": 4,
 "nbformat_minor": 5
}
