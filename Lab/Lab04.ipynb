{
 "cells": [
  {
   "cell_type": "markdown",
   "metadata": {},
   "source": [
    "## Network Flow optimization\n",
    "For this exercise, we will use CVXPY which is a Python-embedded modeling language for convex optimization problems. It allows to express problems in a natural way that follows the math, rather than in the restrictive standard form required by solvers (Matlab has the equivalent CVX).\n",
    "\n",
    "If CVXPY is not already in your environment, you can install it following the instructions reported [here](https://www.cvxpy.org/install/index.html). (for Anaconda in Windows run in your notebook the command **conda install -c conda-forge cvxpy**)"
   ]
  },
  {
   "cell_type": "markdown",
   "metadata": {},
   "source": [
    "Separable convex network flow optimization arises in several applications, e.g., shortest paths between origin and destination, system optimum traffic flows, user optimum network flows in homogeneous routing games, electrical current flows in resistor networks.\n",
    "\n",
    "Given a multigraph $(V,E)$, an **exogenous network flow** is a vector ${\\nu} \\in \\mathrm{R}^V$ such that\n",
    "\n",
    "\\begin{equation}\n",
    "\t\\sum_{i \\in V} \\nu_i = 0.\n",
    "\\end{equation}\n",
    "\n",
    "A network flow is a vector $f \\in \\mathrm{R}^E$ satisfying a positivity constraint and a mass conservation constraints, i.e.,\n",
    "\n",
    "\\begin{equation}\n",
    " f \\ge \\mathbf{0}, \\quad Bf = \\nu.\n",
    "\\end{equation}\n",
    "\n",
    "Every edge is endowed with a separable non-decreasing convex cost function $\\psi_e(f_e)$ such that $\\psi_e(0)=0$. \n",
    "\n",
    "Given an exogenous flow $\\nu$ and a network with node-edge matrix $B$, we study the following optimization problem:\n",
    "\n",
    "\\begin{equation}\n",
    "\\begin{aligned}\n",
    "\tf^* \\in \\ & \\underset{\\substack{f \\in \\mathrm{R}^{E}_+ \\\\ B f = \\nu}}{\\arg\\min}\n",
    "\t& & \\sum_{e \\in E} \\psi_e (f_e).\n",
    "\\end{aligned}\n",
    "\\end{equation}\n",
    "\n",
    "The ratio $\\psi_e(f_e) / f_e$ may be interpreted as the cost per unit of flow sent along the edge $e$. The convexity of $\\psi_e(f_e)$ is thus equivalent to requiring that the marginal cost for sending some flow on each edge is non-decreasing in the flow itself."
   ]
  },
  {
   "cell_type": "markdown",
   "metadata": {},
   "source": [
    "This class of problems may be applied for shortest paths algorithms in a two-terminal network with origin and destination $(o,d)$. For instance:\n",
    "- if $\\psi_e(f_e) = f_e$, the cost for a unit of flow is 1, which means that all the edges have same length 1, and the cost paid for sending flow along an edge is simply proportional to the flow $f_e$ itself;\n",
    "- if $\\psi_e(f_e) = l_e f_e$, each edge is endowed with a length $l_e$ which differs from edge to edge. Even in this formulation, the cost for sending a unit of flow on the edge $e$ does not depend on $f_e$, which means that congestion effects are not taken into account. Congestion effects appear when considering strictly convex cost functions.\n",
    "\n",
    "### Example "
   ]
  },
  {
   "cell_type": "code",
   "execution_count": 1,
   "metadata": {},
   "outputs": [
    {
     "data": {
      "image/png": "[encoded data removed]",
      "text/plain": [
       "<Figure size 432x288 with 1 Axes>"
      ]
     },
     "metadata": {},
     "output_type": "display_data"
    }
   ],
   "source": [
    "import numpy as np\n",
    "import networkx as nx\n",
    "import matplotlib.pyplot as plt\n",
    "%matplotlib inline\n",
    "\n",
    "G = nx.DiGraph()\n",
    "\n",
    "G.add_edges_from([(0,1),(0,2),(0,3),(1,3),(2,3)])\n",
    "\n",
    "pos = {0:[0,0], 1:[1,2], 2:[1,1], 3:[2,0]}\n",
    "\n",
    "nx.draw(G, pos, with_labels=True)"
   ]
  },
  {
   "cell_type": "markdown",
   "metadata": {},
   "source": [
    "We now use network flow optimization to find the shortest path from 0 to 3.\n",
    "\n",
    "Since the problem is linear, the solution will be to allocate the flow on a convex combination of the optimal paths. The optimal paths can be thus deduced from the non-zero components of the optimal flow.\n",
    "\n",
    "Assign to each link the same length."
   ]
  },
  {
   "cell_type": "code",
   "execution_count": 2,
   "metadata": {},
   "outputs": [
    {
     "name": "stdout",
     "output_type": "stream",
     "text": [
      "Optimal f: [7.25651387e-11 7.25651387e-11 1.00000000e+00 7.25651162e-11\n",
      " 7.25651162e-11]\n"
     ]
    }
   ],
   "source": [
    "import cvxpy as cp\n",
    "\n",
    "# Problem data.\n",
    "\n",
    "# incidence_matrix(G, oriented=True).toarray() returns  \n",
    "# the incidence matrix of G as a numpy array. \n",
    "# In the matrix returned by incidence_matrix \n",
    "# a -1 appears for the source (tail) of an edge \n",
    "# and +1 for the destination (head) of the edge.\n",
    "# This sign convention is opposite to the one we adopt\n",
    "# for the node-link incidence matrix, so we \n",
    "# add a minus sign in front.\n",
    "B = - nx.linalg.graphmatrix.incidence_matrix(G, oriented=True).toarray() \n",
    "n_edges = len(G.edges)\n",
    "# exogenous flow vector: one unit of flow enters the origin and \n",
    "# exits the destination node\n",
    "\n",
    "# HINT: double-check the matrix B to ensure that the order of nodes and links is as you expect\n",
    "\n",
    "# the solution of the shortest path problem is actually independent on the throughput value because of the linearity\n",
    "tau = 1\n",
    "nu = np.array([1, 0, 0, -1]) * tau\n",
    "# l stores the coefficients of the linear terms of the objective function, in this case the length of the links.\n",
    "# In this case, the objective function is\n",
    "l = np.array([1,1,1,1,1]) # 1d array\n",
    "\n",
    "# Construct the problem.\n",
    "f = cp.Variable(n_edges)\n",
    "objective = cp.Minimize(l.T @ f)\n",
    "constraints = [B @ f == nu, f >=0]\n",
    "prob = cp.Problem(objective, constraints)\n",
    "\n",
    "# The optimal objective value is returned by `prob.solve()`.\n",
    "result = prob.solve()\n",
    "# The optimal value for f is stored in `f.value`.\n",
    "print(\"Optimal f:\", f.value)"
   ]
  },
  {
   "cell_type": "markdown",
   "metadata": {},
   "source": [
    "The following characterization may be used to individuate the shortest paths: if the flow on a path $p$ is positive (i.e., if the flow on all the edges that compose the path is positive), then $p$ is a shortest path.\n",
    "\n",
    "Of course, the optimal path is $0-3$, which is the only component of $f^*$ greater than 0.\n",
    "\n",
    "We can compute the shortest path where the links have different lenghts."
   ]
  },
  {
   "cell_type": "code",
   "execution_count": 3,
   "metadata": {},
   "outputs": [
    {
     "name": "stdout",
     "output_type": "stream",
     "text": [
      "Optimal f: [4.99999998e-01 4.99999998e-01 3.85901718e-09 4.99999998e-01\n",
      " 4.99999998e-01]\n"
     ]
    }
   ],
   "source": [
    "B = - nx.linalg.graphmatrix.incidence_matrix(G, oriented=True).toarray() \n",
    "n_edges = len(G.edges)\n",
    "# exogenous flow vector: one unit of flow enters the origin and \n",
    "# exits the destination node\n",
    "# the solution of the shortest path problem is actually independent on the throughput value because of the linearity\n",
    "tau = 1\n",
    "nu = np.array([1, 0, 0, -1]) * tau\n",
    "# l stores the coefficients of the linear terms of the objective function, in this case the length of the links.\n",
    "# In this case, the objective function is\n",
    "l = np.array([1,1,3,1,1]) # 1d array\n",
    "\n",
    "# Construct the problem.\n",
    "f = cp.Variable(n_edges)\n",
    "objective = cp.Minimize(l.T @ f)\n",
    "constraints = [B @ f == nu, f >=0]\n",
    "prob = cp.Problem(objective, constraints)\n",
    "\n",
    "# The optimal objective value is returned by `prob.solve()`.\n",
    "result = prob.solve()\n",
    "# The optimal value for f is stored in `f.value`.\n",
    "print(\"Optimal f:\", f.value)"
   ]
  },
  {
   "cell_type": "markdown",
   "metadata": {},
   "source": [
    "If the edge $0-3$ has length 3, the shortest paths become $0-1-3$ and $0-2-3$."
   ]
  },
  {
   "cell_type": "markdown",
   "metadata": {},
   "source": [
    "This can be used for instance to compute the diameter of a network, the average distance between the nodes, and so on.\n",
    "\n",
    "However, this is not the most efficient way to do this, and usually NetworkX has built-in functions that do this without using convex optimization."
   ]
  },
  {
   "cell_type": "markdown",
   "metadata": {},
   "source": [
    "# Traffic applications with congestion\n",
    "\n",
    "## Pigou's example"
   ]
  },
  {
   "cell_type": "markdown",
   "metadata": {},
   "source": [
    "Pigou was the first to illustrate the role of externality in users' choices, and the difference between user optimum and system optimum flow distributions.\n",
    "\n",
    "We consider the traffic network with delay functions shown in figure below, which is assumed to\n",
    "have a unit exogenous inflow at node o and a unit exogenous outflow at node d.\n",
    "\n",
    "![figure](pigou.png)\n"
   ]
  },
  {
   "cell_type": "markdown",
   "metadata": {},
   "source": [
    "1.  Determine the social (system) optimum flow distribution using CVXPY. The social optimum flow distribution is defined as the one minimizing the total delay $\\sum_{e\\in \\mathcal{E}} \\psi_e(f_e)$, where on every link $e \\in \\mathcal{E}$, the cost is $\\psi_e(f_e) = f_e d_e(f_e)$ with $d_e(f_e)$ being the delay function. (note that if $d_e(f_e)$ is constant, i.e., if there is no congestion, the problem reduces to finding the shortest path)\n",
    "2. Determine the user optimum flow (Wardrop equilibrium) using CVXPY.\n",
    "3. Find tolls to align user optimum to social optimum."
   ]
  },
  {
   "cell_type": "markdown",
   "metadata": {},
   "source": [
    "### Solution"
   ]
  },
  {
   "cell_type": "markdown",
   "metadata": {},
   "source": [
    "1.  **Compute social optimum flows and cost.** The social optimum of the network flow problem can be computed with CVXPY using the following code."
   ]
  },
  {
   "cell_type": "code",
   "execution_count": 4,
   "metadata": {},
   "outputs": [
    {
     "name": "stdout",
     "output_type": "stream",
     "text": [
      "Social optimal flow: [0.5 0.5]\n",
      "Optimal cost: 0.75\n"
     ]
    }
   ],
   "source": [
    "import numpy as np\n",
    "\n",
    "# Problem data.\n",
    "\n",
    "# compute node_edge incidence matrix\n",
    "# +1 if the node is the source (tail) of an edge \n",
    "# and -1 if it is the destination (head) of the edge.\n",
    "B = np.array([[1, 1],[-1,-1]])\n",
    "n_edges = B.shape[1]\n",
    "\n",
    "# exogenous flow vector: one unit of flow enters the origin and \n",
    "# exits the destination node\n",
    "nu = np.array([1, -1])\n",
    "# Q and l store the coefficients of the quadratic\n",
    "# and linear terms of the objective function.\n",
    "# In this case, the objective function is\n",
    "# f_1^2 + f_2\n",
    "Q = np.diag([1,0]) # diagonal matrix\n",
    "l = np.array([0,1]) # 1d array\n",
    "\n",
    "# Construct the problem.\n",
    "f = cp.Variable(n_edges)\n",
    "objective = cp.Minimize(cp.quad_form(f,Q) + l.T @ f)\n",
    "constraints = [B @ f == nu, f >=0]\n",
    "prob = cp.Problem(objective, constraints)\n",
    "\n",
    "# The optimal objective value is returned by `prob.solve()`.\n",
    "cost_opt = prob.solve()\n",
    "# The optimal value for f is stored in `f.value`.\n",
    "opt_flow = f.value\n",
    "print(\"Social optimal flow:\", opt_flow)\n",
    "print(\"Optimal cost:\", cost_opt)"
   ]
  },
  {
   "cell_type": "markdown",
   "metadata": {},
   "source": [
    "The obtained flow vector is $f = (1/2, 1/2)'$, with associated optimal cost 3/4."
   ]
  },
  {
   "cell_type": "markdown",
   "metadata": {},
   "source": [
    "2.  **Compute Wardrop equilibrium.** \n",
    "\n",
    "**Definition**: The Wardrop equilibrium is a path flow distribution such that if a path is used, then the cost of the path is minimal, i.e.,\n",
    "\n",
    "$$\n",
    "z_p>0 \\implies c_p(z) \\le c_r(z), \\quad \\forall \\ r \\in \\mathcal{P},\n",
    "$$\n",
    "\n",
    "where $\\mathcal{P}$ is the path set, $f=Az$ is the projection of the path flow on the link set, and $c_p(z) = \\sum_{e: e \\in p} d_e(f_e)$, i.e., the cost of a path is the sum of the delays that compose the path.\n",
    "\n",
    "Ww say that $f$ is a Wardrop equilibrium if it is induced by a Wardrop equilibrium $z$ via $f=Az$.\n",
    "\n",
    "**Theorem**: the flow vector $f^{(0)}$ corresponding to a Wardrop equilibrium can be obtained as a solution of a network flow optimization given that the cost functions $\\psi_e(f_e)$ are chosen as\n",
    "$$\n",
    "\\psi_e(f_e) = \\int_0^{f_e} d_e(s)~\\mathrm{d}s.\n",
    "$$\n",
    "For our problem, the objective function is\n",
    "$$\n",
    "\\frac{f_1^2}{2}+f_2\n",
    "$$"
   ]
  },
  {
   "cell_type": "code",
   "execution_count": 5,
   "metadata": {},
   "outputs": [
    {
     "name": "stdout",
     "output_type": "stream",
     "text": [
      "Wardrop equilibrium: [1.00000000e+00 2.74983778e-24]\n"
     ]
    }
   ],
   "source": [
    "B = np.array([[1, 1],[-1,-1]])\n",
    "n_edges = B.shape[1]\n",
    "\n",
    "# exogenous flow vector: one unit of flow enters the origin and \n",
    "# exits the destination node\n",
    "nu = np.array([1, -1])\n",
    "# Q and l store the coefficients of the quadratic\n",
    "# and linear terms of the objective function.\n",
    "Q = np.diag([1/2,0]) # diagonal matrix\n",
    "l = np.array([0,1]) # 1d array\n",
    "\n",
    "# Construct the problem.\n",
    "f = cp.Variable(n_edges)\n",
    "cp.quad_form(f,Q)\n",
    "objective = cp.Minimize(cp.quad_form(f,Q) + l.T @ f)\n",
    "constraints = [B @ f == nu, f >=0]\n",
    "prob = cp.Problem(objective, constraints)\n",
    "\n",
    "# The optimal objective value is returned by `prob.solve()`.\n",
    "result_w = prob.solve()\n",
    "# The optimal value for f is stored in `f.value`.\n",
    "print(\"Wardrop equilibrium:\", f.value)"
   ]
  },
  {
   "cell_type": "markdown",
   "metadata": {},
   "source": [
    "Note that the social cost under Wardrop equilibrium is not the solution of the optimization problem above. It is\n",
    "\n",
    "$$\n",
    "\\sum_{e}f_e^{(0)}d_e(f_e^{(0)}),\n",
    "$$\n",
    "where \n",
    "\n",
    "\\begin{equation}\n",
    "\\begin{aligned}\n",
    "\tf^{(0)} \\in \\ & \\underset{\\substack{f \\in \\mathrm{R}^{E}_+ \\\\ B f = \\nu}}{\\arg\\min}\n",
    "\t& & \\sum_{e \\in E} \\int_{0}^{f_e} d_e (s) ds.\n",
    "\\end{aligned}\n",
    "\\end{equation}\n",
    "is the Wardrop equilibrium of the game, namely the total travel time at the equilibrium.\n",
    "\n",
    "This observation immediately implies that the price of anarchy cannot be less than 1."
   ]
  },
  {
   "cell_type": "code",
   "execution_count": 6,
   "metadata": {},
   "outputs": [
    {
     "name": "stdout",
     "output_type": "stream",
     "text": [
      "Wardrop cost: 1.0\n"
     ]
    }
   ],
   "source": [
    "def cost(f):\n",
    "    return f[0]*f[0]+f[1] # compute the social cost (total travel time) (f_1)^2+f_2\n",
    "\n",
    "cost_w = cost(f.value) # evaluate the social cost at the Wardrop equilibrium\n",
    "\n",
    "print(\"Wardrop cost:\", cost_w)"
   ]
  },
  {
   "cell_type": "markdown",
   "metadata": {},
   "source": [
    "We can compute the price of anarchy, which is the ratio between the Wardrop cost and the optimal cost."
   ]
  },
  {
   "cell_type": "code",
   "execution_count": 7,
   "metadata": {},
   "outputs": [
    {
     "name": "stdout",
     "output_type": "stream",
     "text": [
      "The price of anarchy: 1.3333333333333333\n"
     ]
    }
   ],
   "source": [
    "PoA = cost_w/cost_opt\n",
    "\n",
    "print(\"The price of anarchy:\", PoA)"
   ]
  },
  {
   "cell_type": "markdown",
   "metadata": {},
   "source": [
    "**Theorem** [Roughgarden et al., 2006] The maximum price of anarchy achievable with affine delay functions is 4/3.\n",
    "\n",
    "Thus, this simple example achieves the maximum possible price of anarchy!\n",
    "\n",
    "![figure](pigou.png)\n",
    "\n",
    "In other words, what is the price of anarchy? \n",
    "\n",
    "- Assume that users' choices are imposed by a central planner. The flow distribution emerging from this centralized decision scheme is the social optimum flow distribution.\n",
    "- In contrast with this, assume that users are free to choose their path based on other users' choices. The flow distribution emerging from this uncoordinated selfish behaviour is the Wardrop equilibrium, in which every user uses a path with minimal delay.\n",
    "\n",
    "Note indeed that under system optimum flow distribution $(1/2, 1/2)$, the cost associated to each path (in this case, links) are\n",
    "\n",
    "$$\n",
    "d_1(1/2) = 1/2, \\qquad d_2(1/2) = 1,\n",
    "$$\n",
    "\n",
    "thus an agent that is using the edge 2, if free to choose, will switch to edge 1.\n",
    "\n",
    "There are two ways to improve the performance of the network:\n",
    "- the first one is to improve the infrastructure (e.g., improving the delay functions of the links, or adding new links), which is called \\emph{network design problem};\n",
    "- the second way is to influence the agents' behaviour, in such a way to align user optimum flows with social optimum flows and reduce the inefficiency due to uncoordinated behaviour of the agents. This can be done in practice by information design, or adding tolls to the links of the network, which is the subject of the next part."
   ]
  },
  {
   "cell_type": "markdown",
   "metadata": {},
   "source": [
    "### How to add tolls: marginal tolls\n",
    "The property of Wardrop equilibrium is that the cost of each used path (link, in this case) is the same.\n",
    "\n",
    "However, when switching from edge 2 to edge 1 (same argument may be applied to paths in more complicated networks), an infinitesimal agent produces a modification in the social cost which is\n",
    "\n",
    "$$\n",
    "(\\psi_1(f_1))'-(\\psi_2(f_2))' = d_1(f_1)+f_1 (d_1(f_1))' - d_2(f_2)-f_2 (d_2(f_2))',\n",
    "$$\n",
    "\n",
    "where $f_e (d_e(f_e))'$ is the derivative of the cost that the other users on edge $e$ will pay due to the addition of infinitesimal flow on edge $e$.\n",
    "\n",
    "The idea of marginal tolls is that if a toll equal to $f_e^{*} (d_e(f_e^{*}))'$ is added to each link $e$ (where $f^{*}$ denotes the social optimum flow distribution), then selfish users should pay not only for their delay, but also for the cost that make other users pay due to their choice.\n",
    "\n",
    "Thus, users minimize the cost that all the system pays for their choice, which leads to social optimum flows."
   ]
  },
  {
   "cell_type": "markdown",
   "metadata": {},
   "source": [
    "3. **Compute Wardrop equilibrium with tolls.** Computing the Wardrop equilibrium as in 2., but with the link delays $d_e(f_e)$ replaced by $\\widehat{d}_e(f_e) = d_e(f_e) + \\omega_e$, a CVXPY solution can be obtained by the following code:"
   ]
  },
  {
   "cell_type": "code",
   "execution_count": 8,
   "metadata": {},
   "outputs": [
    {
     "name": "stdout",
     "output_type": "stream",
     "text": [
      "Wardrop equilibrium with tolls: [0.5 0.5]\n"
     ]
    }
   ],
   "source": [
    "B = np.array([[1, 1],[-1,-1]])\n",
    "n_edges = B.shape[1]\n",
    "\n",
    "# exogenous flow vector: one unit of flow enters the origin and \n",
    "# exits the destination node\n",
    "nu = np.array([1, -1])\n",
    "\n",
    "# find marginal tolls: for each edge the toll equals f*_e d'_e(f_e*)\n",
    "# for affine delays this reads f*_e + a_e\n",
    "# in this case a = [1,0], thus...\n",
    "omega = opt_flow * np.array([1,0])\n",
    "\n",
    "# the objective function is the same as before, except for the tolls\n",
    "l = l + omega\n",
    "\n",
    "# Construct the problem.\n",
    "f = cp.Variable(n_edges)\n",
    "objective = cp.Minimize(cp.quad_form(f, Q) + l.T @ f)\n",
    "constraints = [B @ f == nu, f >=0]\n",
    "prob = cp.Problem(objective, constraints)\n",
    "\n",
    "# The optimal objective value is returned by `prob.solve()`.\n",
    "result = prob.solve()\n",
    "# The optimal value for f is stored in `f.value`.\n",
    "print(\"Wardrop equilibrium with tolls:\", f.value)"
   ]
  },
  {
   "cell_type": "markdown",
   "metadata": {},
   "source": [
    "The resulting flow vector is $f^{(\\omega)} = (1/2, 1/2)'$, which is also the social optimum flow, as expected."
   ]
  },
  {
   "cell_type": "markdown",
   "metadata": {},
   "source": [
    "## Braess' paradox\n",
    "\n",
    "Braess' paradox occurs when improving the network, e.g., adding a link, leads to a higher social cost under Wardrop equilibrium, or equivalently, removing a link reduces the social cost under Wardrop equilibrium \n",
    "\n",
    "Let us see an example."
   ]
  },
  {
   "cell_type": "code",
   "execution_count": 9,
   "metadata": {},
   "outputs": [
    {
     "data": {
      "image/png": "[encoded data removed]",
      "text/plain": [
       "<Figure size 432x288 with 1 Axes>"
      ]
     },
     "metadata": {},
     "output_type": "display_data"
    }
   ],
   "source": [
    "G = nx.DiGraph()\n",
    "\n",
    "G.add_nodes_from([0,1,2,3])\n",
    "\n",
    "G.add_edges_from([(0,1),(0,2),(1,2),(1,3),(2,3)])\n",
    "\n",
    "pos = {0:[0,0], 1:[2,1], 2:[2,-1], 3:[4,0]}\n",
    "\n",
    "labels = ['2x','x+1','x','x+1','2x']\n",
    "\n",
    "zip_operator = zip(G.edges(), labels)\n",
    "labels = dict(zip_operator)\n",
    "\n",
    "nx.draw_networkx_edge_labels(G,pos,edge_labels = labels)\n",
    "\n",
    "nx.draw(G, pos, with_labels=True)"
   ]
  },
  {
   "cell_type": "markdown",
   "metadata": {},
   "source": [
    "Edge labels represent delay functions\n",
    "\n",
    "**Social optimum flows**"
   ]
  },
  {
   "cell_type": "code",
   "execution_count": 10,
   "metadata": {},
   "outputs": [
    {
     "name": "stdout",
     "output_type": "stream",
     "text": [
      "Optimal flows: [5.00000000e-01 5.00000000e-01 2.93299946e-17 5.00000000e-01\n",
      " 5.00000000e-01]\n",
      "Optimal cost: 2.5\n"
     ]
    }
   ],
   "source": [
    "B = -nx.linalg.graphmatrix.incidence_matrix(G, oriented=True).toarray()\n",
    "n_edges = len(G.edges)\n",
    "# exogenous flow vector: one unit of flow enters the origin and \n",
    "# exits the destination node\n",
    "# the solution of the shortest path problem is actually independent on the throughput value because of the linearity\n",
    "tau = 1\n",
    "nu = np.array([1, 0, 0, -1]) * tau\n",
    "# l stores the coefficients of the linear terms of the objective function, in this case the length of the links.\n",
    "# In this case, the objective function is\n",
    "\n",
    "Q = np.diag([2,1,1,1,2]) # diagonal matrix\n",
    "l = np.array([0,1,0,1,0]) # 1d array\n",
    "\n",
    "# Construct the problem.\n",
    "f = cp.Variable(n_edges)\n",
    "objective = cp.Minimize(cp.quad_form(f,Q) + l.T @ f)\n",
    "constraints = [B @ f == nu, f >=0]\n",
    "prob = cp.Problem(objective, constraints)\n",
    "\n",
    "# The optimal objective value is returned by `prob.solve()`.\n",
    "cost_opt = prob.solve()\n",
    "# The optimal value for f is stored in `f.value`.\n",
    "print(\"Optimal flows:\", f.value)\n",
    "print(\"Optimal cost:\", cost_opt)"
   ]
  },
  {
   "cell_type": "markdown",
   "metadata": {},
   "source": [
    "**Wardrop equilibrium**\n"
   ]
  },
  {
   "cell_type": "code",
   "execution_count": 11,
   "metadata": {},
   "outputs": [
    {
     "name": "stdout",
     "output_type": "stream",
     "text": [
      "Wardrop flows: [0.6 0.4 0.2 0.4 0.6]\n"
     ]
    }
   ],
   "source": [
    "B = -nx.linalg.graphmatrix.incidence_matrix(G, oriented=True).toarray()\n",
    "n_edges = len(G.edges)\n",
    "# exogenous flow vector: one unit of flow enters the origin and \n",
    "# exits the destination node\n",
    "tau = 1\n",
    "nu = np.array([1, 0, 0, -1]) * tau\n",
    "# l stores the coefficients of the linear terms of the objective function, in this case the length of the links.\n",
    "# In this case, the objective function is\n",
    "\n",
    "Q = np.diag([1,1/2,1/2,1/2,1]) # diagonal matrix\n",
    "l = np.array([0,1,0,1,0]) # 1d array\n",
    "\n",
    "# Construct the problem.\n",
    "f = cp.Variable(n_edges)\n",
    "objective = cp.Minimize(cp.quad_form(f,Q) + l.T @ f)\n",
    "constraints = [B @ f == nu, f >=0]\n",
    "prob = cp.Problem(objective, constraints)\n",
    "\n",
    "# The optimal objective value is returned by `prob.solve()`.\n",
    "result = prob.solve()\n",
    "# The optimal value for f is stored in `f.value`.\n",
    "print(\"Wardrop flows:\", f.value)"
   ]
  },
  {
   "cell_type": "code",
   "execution_count": 12,
   "metadata": {},
   "outputs": [
    {
     "name": "stdout",
     "output_type": "stream",
     "text": [
      "Wardrop cost: 2.6000000000000005\n",
      "The price of anarchy: 1.0400000000000003\n"
     ]
    }
   ],
   "source": [
    "# cost, defined as \\sum_e f_e d_e(f_e)\n",
    "def cost(f):\n",
    "    return 2*f[0]*f[0]+f[1]*(f[1]+1)+f[2]*f[2]+f[3]*(f[3]+1)+2*f[4]*f[4]\n",
    "\n",
    "cost_w = cost(f.value) \n",
    "\n",
    "print(\"Wardrop cost:\", cost_w)\n",
    "\n",
    "PoA = cost_w/cost_opt\n",
    "\n",
    "print(\"The price of anarchy:\", PoA)"
   ]
  },
  {
   "cell_type": "markdown",
   "metadata": {},
   "source": [
    "Note that under optimal flows the link $e_3$ is not used, while under Wardrop equilibrium $e_3$ is used, and PoA>1.\n",
    "\n",
    "This suggests that the inefficiency (since PoA>1) may be eliminated by removing the link $e_3$\n",
    "\n",
    "Let's try!\n",
    "\n",
    "The optimal flows are not affected by the removal $e_3$ (why?). Let's compute the Wardrop equilibrium of the new network. "
   ]
  },
  {
   "cell_type": "code",
   "execution_count": 13,
   "metadata": {},
   "outputs": [
    {
     "data": {
      "image/png": "[encoded data removed]",
      "text/plain": [
       "<Figure size 432x288 with 1 Axes>"
      ]
     },
     "metadata": {},
     "output_type": "display_data"
    }
   ],
   "source": [
    "# G without $e_3$\n",
    "\n",
    "G = nx.DiGraph()\n",
    "\n",
    "G.add_nodes_from([0,1,2,3])\n",
    "\n",
    "G.add_edges_from([(0,1),(0,2),(1,3),(2,3)])\n",
    "\n",
    "pos = {0:[0,0], 1:[2,1], 2:[2,-1], 3:[4,0]}\n",
    "\n",
    "labels = ['2x','x+1','x+1','2x']\n",
    "\n",
    "zip_operator = zip(G.edges(), labels)\n",
    "labels = dict(zip_operator)\n",
    "\n",
    "nx.draw_networkx_edge_labels(G,pos,edge_labels = labels)\n",
    "\n",
    "nx.draw(G, pos, with_labels=True)"
   ]
  },
  {
   "cell_type": "code",
   "execution_count": 14,
   "metadata": {},
   "outputs": [
    {
     "name": "stdout",
     "output_type": "stream",
     "text": [
      "Wardrop flows: [0.5 0.5 0.5 0.5]\n"
     ]
    }
   ],
   "source": [
    "B = -nx.linalg.graphmatrix.incidence_matrix(G, oriented=True).toarray()\n",
    "n_edges = len(G.edges)\n",
    "\n",
    "# exogenous flow vector: one unit of flow enters the origin and \n",
    "# exits the destination node\n",
    "tau = 1\n",
    "nu = np.array([1, 0, 0, -1]) * tau\n",
    "# l stores the coefficients of the linear terms of the objective function, in this case the length of the links.\n",
    "# In this case, the objective function is\n",
    "\n",
    "Q = np.diag([1,1/2,1/2,1]) # diagonal matrix\n",
    "l = np.array([0,1,1,0]) # 1d array\n",
    "\n",
    "# Construct the problem.\n",
    "f = cp.Variable(n_edges)\n",
    "objective = cp.Minimize(cp.quad_form(f,Q) + l.T @ f)\n",
    "constraints = [B @ f == nu, f >=0]\n",
    "prob = cp.Problem(objective, constraints)\n",
    "\n",
    "# The optimal objective value is returned by `prob.solve()`.\n",
    "result = prob.solve()\n",
    "# The optimal value for f is stored in `f.value`.\n",
    "print(\"Wardrop flows:\", f.value)"
   ]
  },
  {
   "cell_type": "code",
   "execution_count": 15,
   "metadata": {},
   "outputs": [
    {
     "name": "stdout",
     "output_type": "stream",
     "text": [
      "Wardrop cost: 2.5\n",
      "The price of anarchy: 1.0\n"
     ]
    }
   ],
   "source": [
    "# cost, defined as \\sum_e f_e d_e(f_e)\n",
    "def cost(f):\n",
    "    return 2*f[0]*f[0]+f[1]*(f[1]+1)+f[2]*(f[2]+1)+2*f[3]*f[3]\n",
    "\n",
    "cost_w = cost(f.value) \n",
    "\n",
    "print(\"Wardrop cost:\", cost_w)\n",
    "\n",
    "PoA = cost_w/cost_opt\n",
    "\n",
    "print(\"The price of anarchy:\", PoA)"
   ]
  },
  {
   "cell_type": "markdown",
   "metadata": {},
   "source": [
    "The price of anarchy is minimized! \n",
    "\n",
    "This is an example of network design problem in which links are removed instead of added or improved, exploiting Braess' paradox. Braess' paradox has been observed also in reality, not only in theoretical examples.\n",
    "\n",
    "The price of anarchy could be minimized also by adding marginal tolls, or by other toll patterns, e.g., by adding a large toll on link $e_3$ in such a way to prevent users to travel along that link."
   ]
  },
  {
   "cell_type": "markdown",
   "metadata": {},
   "source": [
    "### A sufficient conditions for PoA=1\n",
    "\n",
    "**Observation**: assume that delay functions are linear, i.e., $d_e(f_e) = a_e f_e$. Then, \n",
    "\n",
    "$$\n",
    "f_e d_e(f_e) = a_e f_e^2 = 2 \\int_{0}^{f_e} d_e(s) ds,\n",
    "$$\n",
    "\n",
    "which implies that if the delay functions are linear, then user equilibria coincide with social optimum flows."
   ]
  },
  {
   "cell_type": "markdown",
   "metadata": {},
   "source": [
    "### Resistor networks\n",
    "Network flow optimization can be adapted to many applications, for instance electrical flows in resistor networks.\n",
    "\n",
    "In particular, social optimum traffic flows coincide with electrical current in a resistor network if:\n",
    "- the delay functions are linear, i.e., $d_e(f_e) = a_e f_e$;\n",
    "- the non-negativity constraint $f_e \\ge 0$ is relaxed.\n",
    "\n",
    "The coefficients $a_e$ have to be interpreted as the resistance of the link $e$, and the throughput $\\tau$ as the electrical current injected in the network. It can also be proven that the Lagrangian multipliers associated to the mass conservation in the node set corresponds to electrical potential on the nodes of the resistor network. "
   ]
  }
 ],
 "metadata": {
  "kernelspec": {
   "display_name": "Python 3",
   "language": "python",
   "name": "python3"
  },
  "language_info": {
   "codemirror_mode": {
    "name": "ipython",
    "version": 3
   },
   "file_extension": ".py",
   "mimetype": "text/x-python",
   "name": "python",
   "nbconvert_exporter": "python",
   "pygments_lexer": "ipython3",
   "version": "3.8.8"
  }
 },
 "nbformat": 4,
 "nbformat_minor": 4
}
